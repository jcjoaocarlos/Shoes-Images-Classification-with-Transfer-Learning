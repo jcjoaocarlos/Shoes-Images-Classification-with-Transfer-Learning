{
 "cells": [
  {
   "cell_type": "markdown",
   "id": "66e8203a",
   "metadata": {
    "papermill": {
     "duration": 0.009913,
     "end_time": "2022-10-19T01:48:33.383621",
     "exception": false,
     "start_time": "2022-10-19T01:48:33.373708",
     "status": "completed"
    },
    "tags": []
   },
   "source": [
    "## Introduction\n",
    "\n",
    "Firstly, i have to say that i'm begginer in kaggle, so if you think that this notebook can be improved please comment, it's going to be a pleasure to read.\n",
    "\n",
    "Well, the idea in this notebook is to use transfer learning, the features is obtained from inceptionV3 and the classfier i opted to use Logistic regression, random forest and XGBoost. Firstly, for reasons of low RAM memory i decide to use part of the images (400 for each class) and then use train_test_split to separate the data. "
   ]
  },
  {
   "cell_type": "markdown",
   "id": "bf69222d",
   "metadata": {
    "papermill": {
     "duration": 0.008936,
     "end_time": "2022-10-19T01:48:33.401536",
     "exception": false,
     "start_time": "2022-10-19T01:48:33.392600",
     "status": "completed"
    },
    "tags": []
   },
   "source": [
    "##  Setup"
   ]
  },
  {
   "cell_type": "code",
   "execution_count": 1,
   "id": "6c1b70aa",
   "metadata": {
    "_cell_guid": "b1076dfc-b9ad-4769-8c92-a6c4dae69d19",
    "_uuid": "8f2839f25d086af736a60e9eeb907d3b93b6e0e5",
    "execution": {
     "iopub.execute_input": "2022-10-19T01:48:33.422533Z",
     "iopub.status.busy": "2022-10-19T01:48:33.421642Z",
     "iopub.status.idle": "2022-10-19T01:48:41.777543Z",
     "shell.execute_reply": "2022-10-19T01:48:41.776114Z"
    },
    "papermill": {
     "duration": 8.370192,
     "end_time": "2022-10-19T01:48:41.780904",
     "exception": false,
     "start_time": "2022-10-19T01:48:33.410712",
     "status": "completed"
    },
    "tags": []
   },
   "outputs": [],
   "source": [
    "import os\n",
    "import numpy as np # linear algebra\n",
    "import pandas as pd # data processing, CSV file I/O (e.g. pd.read_csv)\n",
    "from keras.preprocessing import image\n",
    "from keras.applications.inception_v3 import preprocess_input as preprocess_iv3_input\n",
    "from keras import applications\n",
    "from keras.models import Model\n",
    "import random as rd\n",
    "from sklearn.model_selection import train_test_split\n",
    "from sklearn.linear_model import LogisticRegression\n",
    "from sklearn.ensemble import RandomForestClassifier\n",
    "import xgboost as xgb\n",
    "from sklearn.preprocessing import LabelEncoder\n",
    "from sklearn.pipeline import Pipeline\n",
    "from sklearn.metrics import confusion_matrix, accuracy_score, plot_confusion_matrix\n",
    "import seaborn as sns\n",
    "import matplotlib.pyplot as plt     "
   ]
  },
  {
   "cell_type": "code",
   "execution_count": 2,
   "id": "1fa2bf0f",
   "metadata": {
    "execution": {
     "iopub.execute_input": "2022-10-19T01:48:41.801090Z",
     "iopub.status.busy": "2022-10-19T01:48:41.800406Z",
     "iopub.status.idle": "2022-10-19T01:48:45.113524Z",
     "shell.execute_reply": "2022-10-19T01:48:45.112207Z"
    },
    "papermill": {
     "duration": 3.326655,
     "end_time": "2022-10-19T01:48:45.116810",
     "exception": false,
     "start_time": "2022-10-19T01:48:41.790155",
     "status": "completed"
    },
    "tags": []
   },
   "outputs": [
    {
     "name": "stderr",
     "output_type": "stream",
     "text": [
      "2022-10-19 01:48:41.877430: I tensorflow/core/common_runtime/process_util.cc:146] Creating new thread pool with default inter op setting: 2. Tune using inter_op_parallelism_threads for best performance.\n"
     ]
    },
    {
     "name": "stdout",
     "output_type": "stream",
     "text": [
      "Downloading data from https://storage.googleapis.com/tensorflow/keras-applications/inception_v3/inception_v3_weights_tf_dim_ordering_tf_kernels_notop.h5\n",
      "87916544/87910968 [==============================] - 1s 0us/step\n",
      "87924736/87910968 [==============================] - 1s 0us/step\n"
     ]
    }
   ],
   "source": [
    "#this is test code\n",
    "iv3_model = applications.inception_v3.InceptionV3(weights='imagenet', \n",
    "                                include_top=False, \n",
    "                                input_shape=(224, 224,3))\n",
    "iv3_model.layers.pop()\n",
    "output = iv3_model.layers[-1].output\n",
    "iv3_model = Model(iv3_model.input, output)\n",
    "iv3_model.trainable = False"
   ]
  },
  {
   "cell_type": "markdown",
   "id": "74f2f77b",
   "metadata": {
    "papermill": {
     "duration": 0.015379,
     "end_time": "2022-10-19T01:48:45.142887",
     "exception": false,
     "start_time": "2022-10-19T01:48:45.127508",
     "status": "completed"
    },
    "tags": []
   },
   "source": [
    "### Functions\n",
    "\n",
    "Here i define two functions to extract the features from inceptionV3. The first function is to preprocess the images and the second to extract the features from the images."
   ]
  },
  {
   "cell_type": "code",
   "execution_count": 3,
   "id": "26067dc5",
   "metadata": {
    "execution": {
     "iopub.execute_input": "2022-10-19T01:48:45.169776Z",
     "iopub.status.busy": "2022-10-19T01:48:45.169226Z",
     "iopub.status.idle": "2022-10-19T01:48:45.181152Z",
     "shell.execute_reply": "2022-10-19T01:48:45.179645Z"
    },
    "papermill": {
     "duration": 0.029494,
     "end_time": "2022-10-19T01:48:45.185419",
     "exception": false,
     "start_time": "2022-10-19T01:48:45.155925",
     "status": "completed"
    },
    "tags": []
   },
   "outputs": [],
   "source": [
    "img_dir='../input/shoe-vs-sandal-vs-boot-dataset-15k-images/Shoe vs Sandal vs Boot Dataset/Boot/'\n",
    "\n",
    "def process_image2arr(path, img_dims=(224, 224)):\n",
    "    img = image.load_img(path, target_size=img_dims)\n",
    "    img_arr = image.img_to_array(img)\n",
    "    img_arr = np.expand_dims(img_arr, axis=0)\n",
    "    img_arr = preprocess_iv3_input(img_arr)\n",
    "    return img_arr\n",
    "\n",
    "def extract_tl_features(model, image_file_name, image_dir=img_dir):\n",
    "    \n",
    "    pr_img = process_image2arr(image_dir+image_file_name) #the function above \n",
    "    tl_features = model.predict(pr_img)\n",
    "    tl_features = np.reshape(tl_features, 2048*5*5)\n",
    "    return tl_features"
   ]
  },
  {
   "cell_type": "markdown",
   "id": "2bdb826f",
   "metadata": {
    "papermill": {
     "duration": 0.01114,
     "end_time": "2022-10-19T01:48:45.209679",
     "exception": false,
     "start_time": "2022-10-19T01:48:45.198539",
     "status": "completed"
    },
    "tags": []
   },
   "source": [
    "## Extracting the features for each class and then concatenating the data"
   ]
  },
  {
   "cell_type": "markdown",
   "id": "a5b8ec28",
   "metadata": {
    "papermill": {
     "duration": 0.017064,
     "end_time": "2022-10-19T01:48:45.237250",
     "exception": false,
     "start_time": "2022-10-19T01:48:45.220186",
     "status": "completed"
    },
    "tags": []
   },
   "source": [
    "In this part i'm creating a diferent dataframe for each class of shoes. I'm selecting 400 images (randomly obtained) and applying the function previously mentioned, but i choose to write in the variable what type of shoes is in the file path. But the idea here is to form a representative data of these images and i think with this method we can achieve this objective."
   ]
  },
  {
   "cell_type": "markdown",
   "id": "f27cd10d",
   "metadata": {
    "papermill": {
     "duration": 0.009981,
     "end_time": "2022-10-19T01:48:45.260564",
     "exception": false,
     "start_time": "2022-10-19T01:48:45.250583",
     "status": "completed"
    },
    "tags": []
   },
   "source": [
    "### Boots"
   ]
  },
  {
   "cell_type": "code",
   "execution_count": 4,
   "id": "a90fc824",
   "metadata": {
    "execution": {
     "iopub.execute_input": "2022-10-19T01:48:45.283858Z",
     "iopub.status.busy": "2022-10-19T01:48:45.283108Z",
     "iopub.status.idle": "2022-10-19T01:48:45.414651Z",
     "shell.execute_reply": "2022-10-19T01:48:45.413172Z"
    },
    "papermill": {
     "duration": 0.146962,
     "end_time": "2022-10-19T01:48:45.417907",
     "exception": false,
     "start_time": "2022-10-19T01:48:45.270945",
     "status": "completed"
    },
    "tags": []
   },
   "outputs": [],
   "source": [
    "img_dir='../input/shoe-vs-sandal-vs-boot-dataset-15k-images/Shoe vs Sandal vs Boot Dataset/Boot/'\n",
    "img_names=os.listdir('../input/shoe-vs-sandal-vs-boot-dataset-15k-images/Shoe vs Sandal vs Boot Dataset/Boot')\n",
    "\n",
    "n = len(img_names)\n",
    "m = np.random.randint(1,n,400)\n",
    "img_names = pd.DataFrame(img_names,columns = ['img_name'])\n",
    "img_list = img_names.iloc[m,]"
   ]
  },
  {
   "cell_type": "code",
   "execution_count": 5,
   "id": "6730fd48",
   "metadata": {
    "execution": {
     "iopub.execute_input": "2022-10-19T01:48:45.441008Z",
     "iopub.status.busy": "2022-10-19T01:48:45.440572Z",
     "iopub.status.idle": "2022-10-19T01:49:54.649139Z",
     "shell.execute_reply": "2022-10-19T01:49:54.647938Z"
    },
    "papermill": {
     "duration": 69.223929,
     "end_time": "2022-10-19T01:49:54.652239",
     "exception": false,
     "start_time": "2022-10-19T01:48:45.428310",
     "status": "completed"
    },
    "tags": []
   },
   "outputs": [
    {
     "name": "stderr",
     "output_type": "stream",
     "text": [
      "2022-10-19 01:48:45.553807: I tensorflow/compiler/mlir/mlir_graph_optimization_pass.cc:185] None of the MLIR Optimization Passes are enabled (registered 2)\n"
     ]
    }
   ],
   "source": [
    "img_features = dict()\n",
    "img_names = []\n",
    "\n",
    "#montar a base de dados com os features das imagens (como são varias imagens demora)\n",
    "for img in img_list['img_name']:\n",
    "    img_features[img] = extract_tl_features(model=iv3_model, image_file_name=img, image_dir=img_dir)"
   ]
  },
  {
   "cell_type": "code",
   "execution_count": 6,
   "id": "9cf1f2f0",
   "metadata": {
    "execution": {
     "iopub.execute_input": "2022-10-19T01:49:54.674660Z",
     "iopub.status.busy": "2022-10-19T01:49:54.674143Z",
     "iopub.status.idle": "2022-10-19T01:50:04.282371Z",
     "shell.execute_reply": "2022-10-19T01:50:04.281170Z"
    },
    "papermill": {
     "duration": 9.623074,
     "end_time": "2022-10-19T01:50:04.285668",
     "exception": false,
     "start_time": "2022-10-19T01:49:54.662594",
     "status": "completed"
    },
    "tags": []
   },
   "outputs": [
    {
     "data": {
      "text/html": [
       "<div>\n",
       "<style scoped>\n",
       "    .dataframe tbody tr th:only-of-type {\n",
       "        vertical-align: middle;\n",
       "    }\n",
       "\n",
       "    .dataframe tbody tr th {\n",
       "        vertical-align: top;\n",
       "    }\n",
       "\n",
       "    .dataframe thead th {\n",
       "        text-align: right;\n",
       "    }\n",
       "</style>\n",
       "<table border=\"1\" class=\"dataframe\">\n",
       "  <thead>\n",
       "    <tr style=\"text-align: right;\">\n",
       "      <th></th>\n",
       "      <th>0</th>\n",
       "      <th>1</th>\n",
       "      <th>2</th>\n",
       "      <th>3</th>\n",
       "      <th>4</th>\n",
       "      <th>5</th>\n",
       "      <th>6</th>\n",
       "      <th>7</th>\n",
       "      <th>8</th>\n",
       "      <th>9</th>\n",
       "      <th>...</th>\n",
       "      <th>51191</th>\n",
       "      <th>51192</th>\n",
       "      <th>51193</th>\n",
       "      <th>51194</th>\n",
       "      <th>51195</th>\n",
       "      <th>51196</th>\n",
       "      <th>51197</th>\n",
       "      <th>51198</th>\n",
       "      <th>51199</th>\n",
       "      <th>Type</th>\n",
       "    </tr>\n",
       "  </thead>\n",
       "  <tbody>\n",
       "    <tr>\n",
       "      <th>boot (276).jpg</th>\n",
       "      <td>0.000000</td>\n",
       "      <td>0.843215</td>\n",
       "      <td>0.0</td>\n",
       "      <td>1.091496</td>\n",
       "      <td>0.000000</td>\n",
       "      <td>1.022895</td>\n",
       "      <td>0.455113</td>\n",
       "      <td>0.058379</td>\n",
       "      <td>0.602439</td>\n",
       "      <td>0.0</td>\n",
       "      <td>...</td>\n",
       "      <td>1.794804</td>\n",
       "      <td>0.0</td>\n",
       "      <td>2.184465</td>\n",
       "      <td>0.0</td>\n",
       "      <td>1.488901</td>\n",
       "      <td>0.000000</td>\n",
       "      <td>0.778299</td>\n",
       "      <td>0.000000</td>\n",
       "      <td>0.000000</td>\n",
       "      <td>Boot</td>\n",
       "    </tr>\n",
       "    <tr>\n",
       "      <th>boot (2359).jpg</th>\n",
       "      <td>0.000000</td>\n",
       "      <td>0.874627</td>\n",
       "      <td>0.0</td>\n",
       "      <td>1.217293</td>\n",
       "      <td>0.000000</td>\n",
       "      <td>0.464599</td>\n",
       "      <td>0.000000</td>\n",
       "      <td>0.086532</td>\n",
       "      <td>1.159001</td>\n",
       "      <td>0.0</td>\n",
       "      <td>...</td>\n",
       "      <td>2.228059</td>\n",
       "      <td>0.0</td>\n",
       "      <td>1.198201</td>\n",
       "      <td>0.0</td>\n",
       "      <td>1.707577</td>\n",
       "      <td>0.000000</td>\n",
       "      <td>0.000000</td>\n",
       "      <td>0.000000</td>\n",
       "      <td>0.956107</td>\n",
       "      <td>Boot</td>\n",
       "    </tr>\n",
       "    <tr>\n",
       "      <th>boot (1926).jpg</th>\n",
       "      <td>0.000000</td>\n",
       "      <td>1.133155</td>\n",
       "      <td>0.0</td>\n",
       "      <td>0.591662</td>\n",
       "      <td>0.000000</td>\n",
       "      <td>0.932431</td>\n",
       "      <td>1.014284</td>\n",
       "      <td>0.000000</td>\n",
       "      <td>1.226964</td>\n",
       "      <td>0.0</td>\n",
       "      <td>...</td>\n",
       "      <td>2.452534</td>\n",
       "      <td>0.0</td>\n",
       "      <td>1.818035</td>\n",
       "      <td>0.0</td>\n",
       "      <td>1.585546</td>\n",
       "      <td>0.000000</td>\n",
       "      <td>0.000000</td>\n",
       "      <td>0.000000</td>\n",
       "      <td>0.000000</td>\n",
       "      <td>Boot</td>\n",
       "    </tr>\n",
       "    <tr>\n",
       "      <th>boot (1496).jpg</th>\n",
       "      <td>0.069215</td>\n",
       "      <td>1.436697</td>\n",
       "      <td>0.0</td>\n",
       "      <td>1.298439</td>\n",
       "      <td>0.000000</td>\n",
       "      <td>0.769449</td>\n",
       "      <td>0.000000</td>\n",
       "      <td>0.000000</td>\n",
       "      <td>0.696022</td>\n",
       "      <td>0.0</td>\n",
       "      <td>...</td>\n",
       "      <td>0.853676</td>\n",
       "      <td>0.0</td>\n",
       "      <td>0.999509</td>\n",
       "      <td>0.0</td>\n",
       "      <td>0.381284</td>\n",
       "      <td>0.919508</td>\n",
       "      <td>0.000000</td>\n",
       "      <td>0.000000</td>\n",
       "      <td>0.054545</td>\n",
       "      <td>Boot</td>\n",
       "    </tr>\n",
       "    <tr>\n",
       "      <th>boot (3689).jpg</th>\n",
       "      <td>0.000000</td>\n",
       "      <td>0.284661</td>\n",
       "      <td>0.0</td>\n",
       "      <td>0.880076</td>\n",
       "      <td>0.281147</td>\n",
       "      <td>0.560489</td>\n",
       "      <td>0.000000</td>\n",
       "      <td>0.000000</td>\n",
       "      <td>0.000000</td>\n",
       "      <td>0.0</td>\n",
       "      <td>...</td>\n",
       "      <td>0.181421</td>\n",
       "      <td>0.0</td>\n",
       "      <td>0.000000</td>\n",
       "      <td>0.0</td>\n",
       "      <td>0.537321</td>\n",
       "      <td>0.685753</td>\n",
       "      <td>0.000000</td>\n",
       "      <td>0.496367</td>\n",
       "      <td>1.295598</td>\n",
       "      <td>Boot</td>\n",
       "    </tr>\n",
       "  </tbody>\n",
       "</table>\n",
       "<p>5 rows × 51201 columns</p>\n",
       "</div>"
      ],
      "text/plain": [
       "                        0         1    2         3         4         5  \\\n",
       "boot (276).jpg   0.000000  0.843215  0.0  1.091496  0.000000  1.022895   \n",
       "boot (2359).jpg  0.000000  0.874627  0.0  1.217293  0.000000  0.464599   \n",
       "boot (1926).jpg  0.000000  1.133155  0.0  0.591662  0.000000  0.932431   \n",
       "boot (1496).jpg  0.069215  1.436697  0.0  1.298439  0.000000  0.769449   \n",
       "boot (3689).jpg  0.000000  0.284661  0.0  0.880076  0.281147  0.560489   \n",
       "\n",
       "                        6         7         8    9  ...     51191  51192  \\\n",
       "boot (276).jpg   0.455113  0.058379  0.602439  0.0  ...  1.794804    0.0   \n",
       "boot (2359).jpg  0.000000  0.086532  1.159001  0.0  ...  2.228059    0.0   \n",
       "boot (1926).jpg  1.014284  0.000000  1.226964  0.0  ...  2.452534    0.0   \n",
       "boot (1496).jpg  0.000000  0.000000  0.696022  0.0  ...  0.853676    0.0   \n",
       "boot (3689).jpg  0.000000  0.000000  0.000000  0.0  ...  0.181421    0.0   \n",
       "\n",
       "                    51193  51194     51195     51196     51197     51198  \\\n",
       "boot (276).jpg   2.184465    0.0  1.488901  0.000000  0.778299  0.000000   \n",
       "boot (2359).jpg  1.198201    0.0  1.707577  0.000000  0.000000  0.000000   \n",
       "boot (1926).jpg  1.818035    0.0  1.585546  0.000000  0.000000  0.000000   \n",
       "boot (1496).jpg  0.999509    0.0  0.381284  0.919508  0.000000  0.000000   \n",
       "boot (3689).jpg  0.000000    0.0  0.537321  0.685753  0.000000  0.496367   \n",
       "\n",
       "                    51199  Type  \n",
       "boot (276).jpg   0.000000  Boot  \n",
       "boot (2359).jpg  0.956107  Boot  \n",
       "boot (1926).jpg  0.000000  Boot  \n",
       "boot (1496).jpg  0.054545  Boot  \n",
       "boot (3689).jpg  1.295598  Boot  \n",
       "\n",
       "[5 rows x 51201 columns]"
      ]
     },
     "execution_count": 6,
     "metadata": {},
     "output_type": "execute_result"
    }
   ],
   "source": [
    "data_boot = pd.DataFrame.from_dict(img_features, orient='index')\n",
    "#Colocar uma variável para ser categórica no modelo\n",
    "data_boot['Type']='Boot' \n",
    "data_boot.head()"
   ]
  },
  {
   "cell_type": "markdown",
   "id": "03110115",
   "metadata": {
    "papermill": {
     "duration": 0.010161,
     "end_time": "2022-10-19T01:50:04.306690",
     "exception": false,
     "start_time": "2022-10-19T01:50:04.296529",
     "status": "completed"
    },
    "tags": []
   },
   "source": [
    "### Sandals"
   ]
  },
  {
   "cell_type": "code",
   "execution_count": 7,
   "id": "5c721d4c",
   "metadata": {
    "execution": {
     "iopub.execute_input": "2022-10-19T01:50:04.331009Z",
     "iopub.status.busy": "2022-10-19T01:50:04.330308Z",
     "iopub.status.idle": "2022-10-19T01:50:04.442246Z",
     "shell.execute_reply": "2022-10-19T01:50:04.441262Z"
    },
    "papermill": {
     "duration": 0.127133,
     "end_time": "2022-10-19T01:50:04.445113",
     "exception": false,
     "start_time": "2022-10-19T01:50:04.317980",
     "status": "completed"
    },
    "tags": []
   },
   "outputs": [],
   "source": [
    "img_dir='../input/shoe-vs-sandal-vs-boot-dataset-15k-images/Shoe vs Sandal vs Boot Dataset/Sandal/'\n",
    "img_names=os.listdir('../input/shoe-vs-sandal-vs-boot-dataset-15k-images/Shoe vs Sandal vs Boot Dataset/Sandal')\n",
    "n = len(img_names)\n",
    "m = np.random.randint(1,n,400)\n",
    "img_names = pd.DataFrame(img_names,columns = ['img_name'])\n",
    "img_list = img_names.iloc[m,]"
   ]
  },
  {
   "cell_type": "code",
   "execution_count": 8,
   "id": "f94d1ea0",
   "metadata": {
    "execution": {
     "iopub.execute_input": "2022-10-19T01:50:04.470945Z",
     "iopub.status.busy": "2022-10-19T01:50:04.469527Z",
     "iopub.status.idle": "2022-10-19T01:51:12.873183Z",
     "shell.execute_reply": "2022-10-19T01:51:12.872199Z"
    },
    "papermill": {
     "duration": 68.419539,
     "end_time": "2022-10-19T01:51:12.876402",
     "exception": false,
     "start_time": "2022-10-19T01:50:04.456863",
     "status": "completed"
    },
    "tags": []
   },
   "outputs": [],
   "source": [
    "img_features = dict()\n",
    "img_names = []\n",
    "\n",
    "#montar a base de dados com os features das imagens (como são varias imagens demora)\n",
    "for img in img_list['img_name']:\n",
    "    img_features[img] = extract_tl_features(model=iv3_model, image_file_name=img, image_dir=img_dir)"
   ]
  },
  {
   "cell_type": "code",
   "execution_count": 9,
   "id": "38d5664e",
   "metadata": {
    "execution": {
     "iopub.execute_input": "2022-10-19T01:51:12.902190Z",
     "iopub.status.busy": "2022-10-19T01:51:12.900494Z",
     "iopub.status.idle": "2022-10-19T01:51:22.085125Z",
     "shell.execute_reply": "2022-10-19T01:51:22.083453Z"
    },
    "papermill": {
     "duration": 9.200121,
     "end_time": "2022-10-19T01:51:22.088147",
     "exception": false,
     "start_time": "2022-10-19T01:51:12.888026",
     "status": "completed"
    },
    "tags": []
   },
   "outputs": [
    {
     "data": {
      "text/html": [
       "<div>\n",
       "<style scoped>\n",
       "    .dataframe tbody tr th:only-of-type {\n",
       "        vertical-align: middle;\n",
       "    }\n",
       "\n",
       "    .dataframe tbody tr th {\n",
       "        vertical-align: top;\n",
       "    }\n",
       "\n",
       "    .dataframe thead th {\n",
       "        text-align: right;\n",
       "    }\n",
       "</style>\n",
       "<table border=\"1\" class=\"dataframe\">\n",
       "  <thead>\n",
       "    <tr style=\"text-align: right;\">\n",
       "      <th></th>\n",
       "      <th>0</th>\n",
       "      <th>1</th>\n",
       "      <th>2</th>\n",
       "      <th>3</th>\n",
       "      <th>4</th>\n",
       "      <th>5</th>\n",
       "      <th>6</th>\n",
       "      <th>7</th>\n",
       "      <th>8</th>\n",
       "      <th>9</th>\n",
       "      <th>...</th>\n",
       "      <th>51191</th>\n",
       "      <th>51192</th>\n",
       "      <th>51193</th>\n",
       "      <th>51194</th>\n",
       "      <th>51195</th>\n",
       "      <th>51196</th>\n",
       "      <th>51197</th>\n",
       "      <th>51198</th>\n",
       "      <th>51199</th>\n",
       "      <th>Type</th>\n",
       "    </tr>\n",
       "  </thead>\n",
       "  <tbody>\n",
       "    <tr>\n",
       "      <th>Sandal (132).jpg</th>\n",
       "      <td>0.0</td>\n",
       "      <td>1.040755</td>\n",
       "      <td>0.0</td>\n",
       "      <td>0.334661</td>\n",
       "      <td>0.317414</td>\n",
       "      <td>0.680337</td>\n",
       "      <td>1.184022</td>\n",
       "      <td>0.0</td>\n",
       "      <td>0.000000</td>\n",
       "      <td>0.000000</td>\n",
       "      <td>...</td>\n",
       "      <td>3.895692</td>\n",
       "      <td>0.695535</td>\n",
       "      <td>0.000000</td>\n",
       "      <td>2.576543</td>\n",
       "      <td>0.000000</td>\n",
       "      <td>0.000000</td>\n",
       "      <td>0.044239</td>\n",
       "      <td>0.0</td>\n",
       "      <td>0.000000</td>\n",
       "      <td>Sandal</td>\n",
       "    </tr>\n",
       "    <tr>\n",
       "      <th>Sandal (1741).jpg</th>\n",
       "      <td>0.0</td>\n",
       "      <td>0.893850</td>\n",
       "      <td>0.0</td>\n",
       "      <td>0.774618</td>\n",
       "      <td>0.094618</td>\n",
       "      <td>0.709364</td>\n",
       "      <td>0.000000</td>\n",
       "      <td>0.0</td>\n",
       "      <td>0.888344</td>\n",
       "      <td>0.108663</td>\n",
       "      <td>...</td>\n",
       "      <td>3.336922</td>\n",
       "      <td>0.005623</td>\n",
       "      <td>3.205418</td>\n",
       "      <td>0.000000</td>\n",
       "      <td>0.000000</td>\n",
       "      <td>0.718305</td>\n",
       "      <td>1.732163</td>\n",
       "      <td>0.0</td>\n",
       "      <td>0.000000</td>\n",
       "      <td>Sandal</td>\n",
       "    </tr>\n",
       "    <tr>\n",
       "      <th>Sandal (2623).jpg</th>\n",
       "      <td>0.0</td>\n",
       "      <td>1.353289</td>\n",
       "      <td>0.0</td>\n",
       "      <td>0.303761</td>\n",
       "      <td>0.507295</td>\n",
       "      <td>0.000069</td>\n",
       "      <td>0.555816</td>\n",
       "      <td>0.0</td>\n",
       "      <td>0.000000</td>\n",
       "      <td>0.000000</td>\n",
       "      <td>...</td>\n",
       "      <td>2.282451</td>\n",
       "      <td>3.668049</td>\n",
       "      <td>3.970338</td>\n",
       "      <td>0.000000</td>\n",
       "      <td>0.000000</td>\n",
       "      <td>2.828780</td>\n",
       "      <td>0.000000</td>\n",
       "      <td>0.0</td>\n",
       "      <td>2.164997</td>\n",
       "      <td>Sandal</td>\n",
       "    </tr>\n",
       "    <tr>\n",
       "      <th>Sandal (941).jpg</th>\n",
       "      <td>0.0</td>\n",
       "      <td>0.773889</td>\n",
       "      <td>0.0</td>\n",
       "      <td>0.481347</td>\n",
       "      <td>0.000000</td>\n",
       "      <td>0.000000</td>\n",
       "      <td>0.007158</td>\n",
       "      <td>0.0</td>\n",
       "      <td>0.000000</td>\n",
       "      <td>0.000000</td>\n",
       "      <td>...</td>\n",
       "      <td>1.235059</td>\n",
       "      <td>0.210619</td>\n",
       "      <td>3.403573</td>\n",
       "      <td>0.000000</td>\n",
       "      <td>0.000000</td>\n",
       "      <td>1.215680</td>\n",
       "      <td>2.294509</td>\n",
       "      <td>0.0</td>\n",
       "      <td>0.000000</td>\n",
       "      <td>Sandal</td>\n",
       "    </tr>\n",
       "    <tr>\n",
       "      <th>Sandal (4922).jpg</th>\n",
       "      <td>0.0</td>\n",
       "      <td>1.223457</td>\n",
       "      <td>0.0</td>\n",
       "      <td>1.192000</td>\n",
       "      <td>0.000000</td>\n",
       "      <td>0.519660</td>\n",
       "      <td>0.664579</td>\n",
       "      <td>0.0</td>\n",
       "      <td>0.375870</td>\n",
       "      <td>0.000000</td>\n",
       "      <td>...</td>\n",
       "      <td>2.530175</td>\n",
       "      <td>0.000000</td>\n",
       "      <td>2.084312</td>\n",
       "      <td>0.000000</td>\n",
       "      <td>0.139182</td>\n",
       "      <td>0.000000</td>\n",
       "      <td>0.276906</td>\n",
       "      <td>0.0</td>\n",
       "      <td>2.203936</td>\n",
       "      <td>Sandal</td>\n",
       "    </tr>\n",
       "  </tbody>\n",
       "</table>\n",
       "<p>5 rows × 51201 columns</p>\n",
       "</div>"
      ],
      "text/plain": [
       "                     0         1    2         3         4         5         6  \\\n",
       "Sandal (132).jpg   0.0  1.040755  0.0  0.334661  0.317414  0.680337  1.184022   \n",
       "Sandal (1741).jpg  0.0  0.893850  0.0  0.774618  0.094618  0.709364  0.000000   \n",
       "Sandal (2623).jpg  0.0  1.353289  0.0  0.303761  0.507295  0.000069  0.555816   \n",
       "Sandal (941).jpg   0.0  0.773889  0.0  0.481347  0.000000  0.000000  0.007158   \n",
       "Sandal (4922).jpg  0.0  1.223457  0.0  1.192000  0.000000  0.519660  0.664579   \n",
       "\n",
       "                     7         8         9  ...     51191     51192     51193  \\\n",
       "Sandal (132).jpg   0.0  0.000000  0.000000  ...  3.895692  0.695535  0.000000   \n",
       "Sandal (1741).jpg  0.0  0.888344  0.108663  ...  3.336922  0.005623  3.205418   \n",
       "Sandal (2623).jpg  0.0  0.000000  0.000000  ...  2.282451  3.668049  3.970338   \n",
       "Sandal (941).jpg   0.0  0.000000  0.000000  ...  1.235059  0.210619  3.403573   \n",
       "Sandal (4922).jpg  0.0  0.375870  0.000000  ...  2.530175  0.000000  2.084312   \n",
       "\n",
       "                      51194     51195     51196     51197  51198     51199  \\\n",
       "Sandal (132).jpg   2.576543  0.000000  0.000000  0.044239    0.0  0.000000   \n",
       "Sandal (1741).jpg  0.000000  0.000000  0.718305  1.732163    0.0  0.000000   \n",
       "Sandal (2623).jpg  0.000000  0.000000  2.828780  0.000000    0.0  2.164997   \n",
       "Sandal (941).jpg   0.000000  0.000000  1.215680  2.294509    0.0  0.000000   \n",
       "Sandal (4922).jpg  0.000000  0.139182  0.000000  0.276906    0.0  2.203936   \n",
       "\n",
       "                     Type  \n",
       "Sandal (132).jpg   Sandal  \n",
       "Sandal (1741).jpg  Sandal  \n",
       "Sandal (2623).jpg  Sandal  \n",
       "Sandal (941).jpg   Sandal  \n",
       "Sandal (4922).jpg  Sandal  \n",
       "\n",
       "[5 rows x 51201 columns]"
      ]
     },
     "execution_count": 9,
     "metadata": {},
     "output_type": "execute_result"
    }
   ],
   "source": [
    "data_sandal = pd.DataFrame.from_dict(img_features, orient='index')\n",
    "#Colocar uma variável para ser categórica no modelo\n",
    "data_sandal['Type']='Sandal' \n",
    "data_sandal.head()"
   ]
  },
  {
   "cell_type": "markdown",
   "id": "1632481a",
   "metadata": {
    "papermill": {
     "duration": 0.010642,
     "end_time": "2022-10-19T01:51:22.110111",
     "exception": false,
     "start_time": "2022-10-19T01:51:22.099469",
     "status": "completed"
    },
    "tags": []
   },
   "source": [
    "## Shoe"
   ]
  },
  {
   "cell_type": "code",
   "execution_count": 10,
   "id": "28edc9a5",
   "metadata": {
    "execution": {
     "iopub.execute_input": "2022-10-19T01:51:22.136974Z",
     "iopub.status.busy": "2022-10-19T01:51:22.135837Z",
     "iopub.status.idle": "2022-10-19T01:51:22.227664Z",
     "shell.execute_reply": "2022-10-19T01:51:22.226424Z"
    },
    "papermill": {
     "duration": 0.109306,
     "end_time": "2022-10-19T01:51:22.230581",
     "exception": false,
     "start_time": "2022-10-19T01:51:22.121275",
     "status": "completed"
    },
    "tags": []
   },
   "outputs": [],
   "source": [
    "img_dir='../input/shoe-vs-sandal-vs-boot-dataset-15k-images/Shoe vs Sandal vs Boot Dataset/Shoe/'\n",
    "img_names=os.listdir('../input/shoe-vs-sandal-vs-boot-dataset-15k-images/Shoe vs Sandal vs Boot Dataset/Shoe')\n",
    "n = len(img_names)\n",
    "m = np.random.randint(1,n,400)\n",
    "img_names = pd.DataFrame(img_names,columns = ['img_name'])\n",
    "img_list = img_names.iloc[m,]"
   ]
  },
  {
   "cell_type": "code",
   "execution_count": 11,
   "id": "9cccf191",
   "metadata": {
    "execution": {
     "iopub.execute_input": "2022-10-19T01:51:22.254124Z",
     "iopub.status.busy": "2022-10-19T01:51:22.253451Z",
     "iopub.status.idle": "2022-10-19T01:52:28.808325Z",
     "shell.execute_reply": "2022-10-19T01:52:28.807143Z"
    },
    "papermill": {
     "duration": 66.569871,
     "end_time": "2022-10-19T01:52:28.811227",
     "exception": false,
     "start_time": "2022-10-19T01:51:22.241356",
     "status": "completed"
    },
    "tags": []
   },
   "outputs": [],
   "source": [
    "img_features = dict()\n",
    "img_names = []\n",
    "\n",
    "#montar a base de dados com os features das imagens (como são varias imagens demora)\n",
    "for img in img_list['img_name']:\n",
    "    img_features[img] = extract_tl_features(model=iv3_model, image_file_name=img, image_dir=img_dir)"
   ]
  },
  {
   "cell_type": "code",
   "execution_count": 12,
   "id": "ffa149cb",
   "metadata": {
    "execution": {
     "iopub.execute_input": "2022-10-19T01:52:28.834803Z",
     "iopub.status.busy": "2022-10-19T01:52:28.834276Z",
     "iopub.status.idle": "2022-10-19T01:52:38.292663Z",
     "shell.execute_reply": "2022-10-19T01:52:38.291521Z"
    },
    "papermill": {
     "duration": 9.473328,
     "end_time": "2022-10-19T01:52:38.295498",
     "exception": false,
     "start_time": "2022-10-19T01:52:28.822170",
     "status": "completed"
    },
    "tags": []
   },
   "outputs": [
    {
     "data": {
      "text/html": [
       "<div>\n",
       "<style scoped>\n",
       "    .dataframe tbody tr th:only-of-type {\n",
       "        vertical-align: middle;\n",
       "    }\n",
       "\n",
       "    .dataframe tbody tr th {\n",
       "        vertical-align: top;\n",
       "    }\n",
       "\n",
       "    .dataframe thead th {\n",
       "        text-align: right;\n",
       "    }\n",
       "</style>\n",
       "<table border=\"1\" class=\"dataframe\">\n",
       "  <thead>\n",
       "    <tr style=\"text-align: right;\">\n",
       "      <th></th>\n",
       "      <th>0</th>\n",
       "      <th>1</th>\n",
       "      <th>2</th>\n",
       "      <th>3</th>\n",
       "      <th>4</th>\n",
       "      <th>5</th>\n",
       "      <th>6</th>\n",
       "      <th>7</th>\n",
       "      <th>8</th>\n",
       "      <th>9</th>\n",
       "      <th>...</th>\n",
       "      <th>51191</th>\n",
       "      <th>51192</th>\n",
       "      <th>51193</th>\n",
       "      <th>51194</th>\n",
       "      <th>51195</th>\n",
       "      <th>51196</th>\n",
       "      <th>51197</th>\n",
       "      <th>51198</th>\n",
       "      <th>51199</th>\n",
       "      <th>Type</th>\n",
       "    </tr>\n",
       "  </thead>\n",
       "  <tbody>\n",
       "    <tr>\n",
       "      <th>Shoe (4588).jpg</th>\n",
       "      <td>0.0</td>\n",
       "      <td>1.354961</td>\n",
       "      <td>0.092542</td>\n",
       "      <td>1.078393</td>\n",
       "      <td>0.000000</td>\n",
       "      <td>0.292643</td>\n",
       "      <td>1.705445</td>\n",
       "      <td>0.0</td>\n",
       "      <td>1.471325</td>\n",
       "      <td>0.0</td>\n",
       "      <td>...</td>\n",
       "      <td>2.980610</td>\n",
       "      <td>0.000000</td>\n",
       "      <td>1.512694</td>\n",
       "      <td>0.0</td>\n",
       "      <td>0.698915</td>\n",
       "      <td>2.088538</td>\n",
       "      <td>0.000000</td>\n",
       "      <td>0.0</td>\n",
       "      <td>0.000000</td>\n",
       "      <td>Shoe</td>\n",
       "    </tr>\n",
       "    <tr>\n",
       "      <th>Shoe (4694).jpg</th>\n",
       "      <td>0.0</td>\n",
       "      <td>0.640212</td>\n",
       "      <td>0.000000</td>\n",
       "      <td>0.831848</td>\n",
       "      <td>0.000000</td>\n",
       "      <td>0.345479</td>\n",
       "      <td>0.730929</td>\n",
       "      <td>0.0</td>\n",
       "      <td>0.833912</td>\n",
       "      <td>0.0</td>\n",
       "      <td>...</td>\n",
       "      <td>0.000000</td>\n",
       "      <td>0.000000</td>\n",
       "      <td>1.990826</td>\n",
       "      <td>0.0</td>\n",
       "      <td>0.000000</td>\n",
       "      <td>0.174059</td>\n",
       "      <td>3.157705</td>\n",
       "      <td>0.0</td>\n",
       "      <td>0.236315</td>\n",
       "      <td>Shoe</td>\n",
       "    </tr>\n",
       "    <tr>\n",
       "      <th>Shoe (332).jpg</th>\n",
       "      <td>0.0</td>\n",
       "      <td>0.763322</td>\n",
       "      <td>0.000000</td>\n",
       "      <td>1.384427</td>\n",
       "      <td>0.026698</td>\n",
       "      <td>0.059248</td>\n",
       "      <td>0.284650</td>\n",
       "      <td>0.0</td>\n",
       "      <td>1.159215</td>\n",
       "      <td>0.0</td>\n",
       "      <td>...</td>\n",
       "      <td>2.596782</td>\n",
       "      <td>1.158566</td>\n",
       "      <td>3.477599</td>\n",
       "      <td>0.0</td>\n",
       "      <td>0.250779</td>\n",
       "      <td>0.000000</td>\n",
       "      <td>0.174436</td>\n",
       "      <td>0.0</td>\n",
       "      <td>0.492299</td>\n",
       "      <td>Shoe</td>\n",
       "    </tr>\n",
       "    <tr>\n",
       "      <th>Shoe (932).jpg</th>\n",
       "      <td>0.0</td>\n",
       "      <td>0.995858</td>\n",
       "      <td>0.105623</td>\n",
       "      <td>1.207302</td>\n",
       "      <td>0.000000</td>\n",
       "      <td>0.677954</td>\n",
       "      <td>0.567953</td>\n",
       "      <td>0.0</td>\n",
       "      <td>0.683011</td>\n",
       "      <td>0.0</td>\n",
       "      <td>...</td>\n",
       "      <td>0.618888</td>\n",
       "      <td>0.000000</td>\n",
       "      <td>1.062984</td>\n",
       "      <td>0.0</td>\n",
       "      <td>3.457614</td>\n",
       "      <td>0.000000</td>\n",
       "      <td>1.846572</td>\n",
       "      <td>0.0</td>\n",
       "      <td>0.000000</td>\n",
       "      <td>Shoe</td>\n",
       "    </tr>\n",
       "    <tr>\n",
       "      <th>Shoe (2910).jpg</th>\n",
       "      <td>0.0</td>\n",
       "      <td>0.321238</td>\n",
       "      <td>0.000000</td>\n",
       "      <td>0.499555</td>\n",
       "      <td>0.377326</td>\n",
       "      <td>1.041068</td>\n",
       "      <td>0.219469</td>\n",
       "      <td>0.0</td>\n",
       "      <td>0.469991</td>\n",
       "      <td>0.0</td>\n",
       "      <td>...</td>\n",
       "      <td>1.790755</td>\n",
       "      <td>0.000000</td>\n",
       "      <td>1.985911</td>\n",
       "      <td>0.0</td>\n",
       "      <td>1.391135</td>\n",
       "      <td>0.000000</td>\n",
       "      <td>1.156733</td>\n",
       "      <td>0.0</td>\n",
       "      <td>0.000000</td>\n",
       "      <td>Shoe</td>\n",
       "    </tr>\n",
       "  </tbody>\n",
       "</table>\n",
       "<p>5 rows × 51201 columns</p>\n",
       "</div>"
      ],
      "text/plain": [
       "                   0         1         2         3         4         5  \\\n",
       "Shoe (4588).jpg  0.0  1.354961  0.092542  1.078393  0.000000  0.292643   \n",
       "Shoe (4694).jpg  0.0  0.640212  0.000000  0.831848  0.000000  0.345479   \n",
       "Shoe (332).jpg   0.0  0.763322  0.000000  1.384427  0.026698  0.059248   \n",
       "Shoe (932).jpg   0.0  0.995858  0.105623  1.207302  0.000000  0.677954   \n",
       "Shoe (2910).jpg  0.0  0.321238  0.000000  0.499555  0.377326  1.041068   \n",
       "\n",
       "                        6    7         8    9  ...     51191     51192  \\\n",
       "Shoe (4588).jpg  1.705445  0.0  1.471325  0.0  ...  2.980610  0.000000   \n",
       "Shoe (4694).jpg  0.730929  0.0  0.833912  0.0  ...  0.000000  0.000000   \n",
       "Shoe (332).jpg   0.284650  0.0  1.159215  0.0  ...  2.596782  1.158566   \n",
       "Shoe (932).jpg   0.567953  0.0  0.683011  0.0  ...  0.618888  0.000000   \n",
       "Shoe (2910).jpg  0.219469  0.0  0.469991  0.0  ...  1.790755  0.000000   \n",
       "\n",
       "                    51193  51194     51195     51196     51197  51198  \\\n",
       "Shoe (4588).jpg  1.512694    0.0  0.698915  2.088538  0.000000    0.0   \n",
       "Shoe (4694).jpg  1.990826    0.0  0.000000  0.174059  3.157705    0.0   \n",
       "Shoe (332).jpg   3.477599    0.0  0.250779  0.000000  0.174436    0.0   \n",
       "Shoe (932).jpg   1.062984    0.0  3.457614  0.000000  1.846572    0.0   \n",
       "Shoe (2910).jpg  1.985911    0.0  1.391135  0.000000  1.156733    0.0   \n",
       "\n",
       "                    51199  Type  \n",
       "Shoe (4588).jpg  0.000000  Shoe  \n",
       "Shoe (4694).jpg  0.236315  Shoe  \n",
       "Shoe (332).jpg   0.492299  Shoe  \n",
       "Shoe (932).jpg   0.000000  Shoe  \n",
       "Shoe (2910).jpg  0.000000  Shoe  \n",
       "\n",
       "[5 rows x 51201 columns]"
      ]
     },
     "execution_count": 12,
     "metadata": {},
     "output_type": "execute_result"
    }
   ],
   "source": [
    "data_shoe=pd.DataFrame.from_dict(img_features, orient='index')\n",
    "#Colocar uma variável para ser categórica no modelo\n",
    "data_shoe['Type']='Shoe' \n",
    "data_shoe.head()"
   ]
  },
  {
   "cell_type": "markdown",
   "id": "3601bae2",
   "metadata": {
    "papermill": {
     "duration": 0.010286,
     "end_time": "2022-10-19T01:52:38.316693",
     "exception": false,
     "start_time": "2022-10-19T01:52:38.306407",
     "status": "completed"
    },
    "tags": []
   },
   "source": [
    "## Forming a complete dataset"
   ]
  },
  {
   "cell_type": "markdown",
   "id": "1a4f519d",
   "metadata": {
    "papermill": {
     "duration": 0.010309,
     "end_time": "2022-10-19T01:52:38.337662",
     "exception": false,
     "start_time": "2022-10-19T01:52:38.327353",
     "status": "completed"
    },
    "tags": []
   },
   "source": [
    "Now that we have the 3 dataframes with the features it's time to concatenate and now we have a problem. I was using random forest and the logistic regression with pandas category type, but to use XGBoost the response variable has to be encoded. So what was my idea, i create two different dataframes, one with the response variable encoded and other with the category type."
   ]
  },
  {
   "cell_type": "code",
   "execution_count": 13,
   "id": "215f7402",
   "metadata": {
    "execution": {
     "iopub.execute_input": "2022-10-19T01:52:38.361141Z",
     "iopub.status.busy": "2022-10-19T01:52:38.360726Z",
     "iopub.status.idle": "2022-10-19T01:52:38.608685Z",
     "shell.execute_reply": "2022-10-19T01:52:38.607410Z"
    },
    "papermill": {
     "duration": 0.262852,
     "end_time": "2022-10-19T01:52:38.611501",
     "exception": false,
     "start_time": "2022-10-19T01:52:38.348649",
     "status": "completed"
    },
    "tags": []
   },
   "outputs": [
    {
     "data": {
      "text/html": [
       "<div>\n",
       "<style scoped>\n",
       "    .dataframe tbody tr th:only-of-type {\n",
       "        vertical-align: middle;\n",
       "    }\n",
       "\n",
       "    .dataframe tbody tr th {\n",
       "        vertical-align: top;\n",
       "    }\n",
       "\n",
       "    .dataframe thead th {\n",
       "        text-align: right;\n",
       "    }\n",
       "</style>\n",
       "<table border=\"1\" class=\"dataframe\">\n",
       "  <thead>\n",
       "    <tr style=\"text-align: right;\">\n",
       "      <th></th>\n",
       "      <th>0</th>\n",
       "      <th>1</th>\n",
       "      <th>2</th>\n",
       "      <th>3</th>\n",
       "      <th>4</th>\n",
       "      <th>5</th>\n",
       "      <th>6</th>\n",
       "      <th>7</th>\n",
       "      <th>8</th>\n",
       "      <th>9</th>\n",
       "      <th>...</th>\n",
       "      <th>51191</th>\n",
       "      <th>51192</th>\n",
       "      <th>51193</th>\n",
       "      <th>51194</th>\n",
       "      <th>51195</th>\n",
       "      <th>51196</th>\n",
       "      <th>51197</th>\n",
       "      <th>51198</th>\n",
       "      <th>51199</th>\n",
       "      <th>Type</th>\n",
       "    </tr>\n",
       "  </thead>\n",
       "  <tbody>\n",
       "    <tr>\n",
       "      <th>boot (276).jpg</th>\n",
       "      <td>0.000000</td>\n",
       "      <td>0.843215</td>\n",
       "      <td>0.0</td>\n",
       "      <td>1.091496</td>\n",
       "      <td>0.000000</td>\n",
       "      <td>1.022895</td>\n",
       "      <td>0.455113</td>\n",
       "      <td>0.058379</td>\n",
       "      <td>0.602439</td>\n",
       "      <td>0.0</td>\n",
       "      <td>...</td>\n",
       "      <td>1.794804</td>\n",
       "      <td>0.0</td>\n",
       "      <td>2.184465</td>\n",
       "      <td>0.0</td>\n",
       "      <td>1.488901</td>\n",
       "      <td>0.000000</td>\n",
       "      <td>0.778299</td>\n",
       "      <td>0.000000</td>\n",
       "      <td>0.000000</td>\n",
       "      <td>Boot</td>\n",
       "    </tr>\n",
       "    <tr>\n",
       "      <th>boot (2359).jpg</th>\n",
       "      <td>0.000000</td>\n",
       "      <td>0.874627</td>\n",
       "      <td>0.0</td>\n",
       "      <td>1.217293</td>\n",
       "      <td>0.000000</td>\n",
       "      <td>0.464599</td>\n",
       "      <td>0.000000</td>\n",
       "      <td>0.086532</td>\n",
       "      <td>1.159001</td>\n",
       "      <td>0.0</td>\n",
       "      <td>...</td>\n",
       "      <td>2.228059</td>\n",
       "      <td>0.0</td>\n",
       "      <td>1.198201</td>\n",
       "      <td>0.0</td>\n",
       "      <td>1.707577</td>\n",
       "      <td>0.000000</td>\n",
       "      <td>0.000000</td>\n",
       "      <td>0.000000</td>\n",
       "      <td>0.956107</td>\n",
       "      <td>Boot</td>\n",
       "    </tr>\n",
       "    <tr>\n",
       "      <th>boot (1926).jpg</th>\n",
       "      <td>0.000000</td>\n",
       "      <td>1.133155</td>\n",
       "      <td>0.0</td>\n",
       "      <td>0.591662</td>\n",
       "      <td>0.000000</td>\n",
       "      <td>0.932431</td>\n",
       "      <td>1.014284</td>\n",
       "      <td>0.000000</td>\n",
       "      <td>1.226964</td>\n",
       "      <td>0.0</td>\n",
       "      <td>...</td>\n",
       "      <td>2.452534</td>\n",
       "      <td>0.0</td>\n",
       "      <td>1.818035</td>\n",
       "      <td>0.0</td>\n",
       "      <td>1.585546</td>\n",
       "      <td>0.000000</td>\n",
       "      <td>0.000000</td>\n",
       "      <td>0.000000</td>\n",
       "      <td>0.000000</td>\n",
       "      <td>Boot</td>\n",
       "    </tr>\n",
       "    <tr>\n",
       "      <th>boot (1496).jpg</th>\n",
       "      <td>0.069215</td>\n",
       "      <td>1.436697</td>\n",
       "      <td>0.0</td>\n",
       "      <td>1.298439</td>\n",
       "      <td>0.000000</td>\n",
       "      <td>0.769449</td>\n",
       "      <td>0.000000</td>\n",
       "      <td>0.000000</td>\n",
       "      <td>0.696022</td>\n",
       "      <td>0.0</td>\n",
       "      <td>...</td>\n",
       "      <td>0.853676</td>\n",
       "      <td>0.0</td>\n",
       "      <td>0.999509</td>\n",
       "      <td>0.0</td>\n",
       "      <td>0.381284</td>\n",
       "      <td>0.919508</td>\n",
       "      <td>0.000000</td>\n",
       "      <td>0.000000</td>\n",
       "      <td>0.054545</td>\n",
       "      <td>Boot</td>\n",
       "    </tr>\n",
       "    <tr>\n",
       "      <th>boot (3689).jpg</th>\n",
       "      <td>0.000000</td>\n",
       "      <td>0.284661</td>\n",
       "      <td>0.0</td>\n",
       "      <td>0.880076</td>\n",
       "      <td>0.281147</td>\n",
       "      <td>0.560489</td>\n",
       "      <td>0.000000</td>\n",
       "      <td>0.000000</td>\n",
       "      <td>0.000000</td>\n",
       "      <td>0.0</td>\n",
       "      <td>...</td>\n",
       "      <td>0.181421</td>\n",
       "      <td>0.0</td>\n",
       "      <td>0.000000</td>\n",
       "      <td>0.0</td>\n",
       "      <td>0.537321</td>\n",
       "      <td>0.685753</td>\n",
       "      <td>0.000000</td>\n",
       "      <td>0.496367</td>\n",
       "      <td>1.295598</td>\n",
       "      <td>Boot</td>\n",
       "    </tr>\n",
       "  </tbody>\n",
       "</table>\n",
       "<p>5 rows × 51201 columns</p>\n",
       "</div>"
      ],
      "text/plain": [
       "                        0         1    2         3         4         5  \\\n",
       "boot (276).jpg   0.000000  0.843215  0.0  1.091496  0.000000  1.022895   \n",
       "boot (2359).jpg  0.000000  0.874627  0.0  1.217293  0.000000  0.464599   \n",
       "boot (1926).jpg  0.000000  1.133155  0.0  0.591662  0.000000  0.932431   \n",
       "boot (1496).jpg  0.069215  1.436697  0.0  1.298439  0.000000  0.769449   \n",
       "boot (3689).jpg  0.000000  0.284661  0.0  0.880076  0.281147  0.560489   \n",
       "\n",
       "                        6         7         8    9  ...     51191  51192  \\\n",
       "boot (276).jpg   0.455113  0.058379  0.602439  0.0  ...  1.794804    0.0   \n",
       "boot (2359).jpg  0.000000  0.086532  1.159001  0.0  ...  2.228059    0.0   \n",
       "boot (1926).jpg  1.014284  0.000000  1.226964  0.0  ...  2.452534    0.0   \n",
       "boot (1496).jpg  0.000000  0.000000  0.696022  0.0  ...  0.853676    0.0   \n",
       "boot (3689).jpg  0.000000  0.000000  0.000000  0.0  ...  0.181421    0.0   \n",
       "\n",
       "                    51193  51194     51195     51196     51197     51198  \\\n",
       "boot (276).jpg   2.184465    0.0  1.488901  0.000000  0.778299  0.000000   \n",
       "boot (2359).jpg  1.198201    0.0  1.707577  0.000000  0.000000  0.000000   \n",
       "boot (1926).jpg  1.818035    0.0  1.585546  0.000000  0.000000  0.000000   \n",
       "boot (1496).jpg  0.999509    0.0  0.381284  0.919508  0.000000  0.000000   \n",
       "boot (3689).jpg  0.000000    0.0  0.537321  0.685753  0.000000  0.496367   \n",
       "\n",
       "                    51199  Type  \n",
       "boot (276).jpg   0.000000  Boot  \n",
       "boot (2359).jpg  0.956107  Boot  \n",
       "boot (1926).jpg  0.000000  Boot  \n",
       "boot (1496).jpg  0.054545  Boot  \n",
       "boot (3689).jpg  1.295598  Boot  \n",
       "\n",
       "[5 rows x 51201 columns]"
      ]
     },
     "execution_count": 13,
     "metadata": {},
     "output_type": "execute_result"
    }
   ],
   "source": [
    "data_features = pd.concat([data_boot,data_sandal,data_shoe])\n",
    "data_features.Type = data_features.Type.astype('category')\n",
    "data_features.head()"
   ]
  },
  {
   "cell_type": "code",
   "execution_count": 14,
   "id": "d5d4487d",
   "metadata": {
    "execution": {
     "iopub.execute_input": "2022-10-19T01:52:38.637340Z",
     "iopub.status.busy": "2022-10-19T01:52:38.636181Z",
     "iopub.status.idle": "2022-10-19T01:52:38.987642Z",
     "shell.execute_reply": "2022-10-19T01:52:38.986188Z"
    },
    "papermill": {
     "duration": 0.367242,
     "end_time": "2022-10-19T01:52:38.990515",
     "exception": false,
     "start_time": "2022-10-19T01:52:38.623273",
     "status": "completed"
    },
    "tags": []
   },
   "outputs": [],
   "source": [
    "# Apply label encoder to each column with categorical data\n",
    "encoder = LabelEncoder()\n",
    "cols_encoded = pd.DataFrame(encoder.fit_transform(data_features['Type']))\n",
    "\n",
    "#indexing\n",
    "cols_encoded.index = data_features.index\n",
    "\n",
    "cols_encoded.columns = ['Type_enc']\n",
    "\n",
    "# Add one-hot encoded columns to numerical features\n",
    "data_features = pd.concat([data_features, cols_encoded], axis=1)\n",
    "data_xgb = data_features.drop(columns = 'Type')\n",
    "data_features = data_features.drop(columns = 'Type_enc')"
   ]
  },
  {
   "cell_type": "markdown",
   "id": "86a89ec2",
   "metadata": {
    "papermill": {
     "duration": 0.01184,
     "end_time": "2022-10-19T01:52:39.014407",
     "exception": false,
     "start_time": "2022-10-19T01:52:39.002567",
     "status": "completed"
    },
    "tags": []
   },
   "source": [
    "## Modeling"
   ]
  },
  {
   "cell_type": "markdown",
   "id": "0aa15c41",
   "metadata": {
    "papermill": {
     "duration": 0.011344,
     "end_time": "2022-10-19T01:52:39.037575",
     "exception": false,
     "start_time": "2022-10-19T01:52:39.026231",
     "status": "completed"
    },
    "tags": []
   },
   "source": [
    "In this part we're going to separate the dataframe using train_test_split to obtain a subset of data to train the model and the rest for test or validation. To evaluate the performance of each method I am considering the confusion matrix."
   ]
  },
  {
   "cell_type": "code",
   "execution_count": 15,
   "id": "3657e84d",
   "metadata": {
    "execution": {
     "iopub.execute_input": "2022-10-19T01:52:39.065143Z",
     "iopub.status.busy": "2022-10-19T01:52:39.063946Z",
     "iopub.status.idle": "2022-10-19T01:52:39.497618Z",
     "shell.execute_reply": "2022-10-19T01:52:39.496426Z"
    },
    "papermill": {
     "duration": 0.449798,
     "end_time": "2022-10-19T01:52:39.500502",
     "exception": false,
     "start_time": "2022-10-19T01:52:39.050704",
     "status": "completed"
    },
    "tags": []
   },
   "outputs": [],
   "source": [
    "y = data_features.Type\n",
    "x = data_features.loc[:, data_features.columns != 'Type']\n",
    "\n",
    "x_train, x_test, y_train, y_test = train_test_split(x ,y,test_size = 0.3,random_state = 0)"
   ]
  },
  {
   "cell_type": "markdown",
   "id": "c6ae7d24",
   "metadata": {
    "papermill": {
     "duration": 0.01071,
     "end_time": "2022-10-19T01:52:39.522461",
     "exception": false,
     "start_time": "2022-10-19T01:52:39.511751",
     "status": "completed"
    },
    "tags": []
   },
   "source": [
    "### Logistic Regression"
   ]
  },
  {
   "cell_type": "code",
   "execution_count": 16,
   "id": "5df20205",
   "metadata": {
    "execution": {
     "iopub.execute_input": "2022-10-19T01:52:39.546715Z",
     "iopub.status.busy": "2022-10-19T01:52:39.546319Z",
     "iopub.status.idle": "2022-10-19T01:53:36.940261Z",
     "shell.execute_reply": "2022-10-19T01:53:36.938330Z"
    },
    "papermill": {
     "duration": 57.482091,
     "end_time": "2022-10-19T01:53:37.015701",
     "exception": false,
     "start_time": "2022-10-19T01:52:39.533610",
     "status": "completed"
    },
    "tags": []
   },
   "outputs": [
    {
     "data": {
      "text/plain": [
       "LogisticRegression(max_iter=400, multi_class='multinomial')"
      ]
     },
     "execution_count": 16,
     "metadata": {},
     "output_type": "execute_result"
    }
   ],
   "source": [
    "model_log = LogisticRegression(multi_class='multinomial', solver='lbfgs', max_iter=400 )\n",
    "model_log.fit(x_train, y_train)"
   ]
  },
  {
   "cell_type": "code",
   "execution_count": 17,
   "id": "5386dca0",
   "metadata": {
    "execution": {
     "iopub.execute_input": "2022-10-19T01:53:37.052877Z",
     "iopub.status.busy": "2022-10-19T01:53:37.052406Z",
     "iopub.status.idle": "2022-10-19T01:53:37.624685Z",
     "shell.execute_reply": "2022-10-19T01:53:37.623091Z"
    },
    "papermill": {
     "duration": 0.59173,
     "end_time": "2022-10-19T01:53:37.630337",
     "exception": false,
     "start_time": "2022-10-19T01:53:37.038607",
     "status": "completed"
    },
    "tags": []
   },
   "outputs": [
    {
     "name": "stdout",
     "output_type": "stream",
     "text": [
      "Accuracy Score: 96 %\n"
     ]
    }
   ],
   "source": [
    "pred = model_log.predict(x_test)\n",
    "confusion = confusion_matrix(y_test, pred)\n",
    "acc = accuracy_score(y_test, pred)\n",
    "print('Accuracy Score:',int(acc*100),'%')"
   ]
  },
  {
   "cell_type": "code",
   "execution_count": 18,
   "id": "820d4148",
   "metadata": {
    "execution": {
     "iopub.execute_input": "2022-10-19T01:53:37.694951Z",
     "iopub.status.busy": "2022-10-19T01:53:37.694253Z",
     "iopub.status.idle": "2022-10-19T01:53:38.040338Z",
     "shell.execute_reply": "2022-10-19T01:53:38.038573Z"
    },
    "papermill": {
     "duration": 0.381849,
     "end_time": "2022-10-19T01:53:38.043284",
     "exception": false,
     "start_time": "2022-10-19T01:53:37.661435",
     "status": "completed"
    },
    "tags": []
   },
   "outputs": [
    {
     "data": {
      "image/png": "[encoded data removed]",
      "text/plain": [
       "<Figure size 432x288 with 2 Axes>"
      ]
     },
     "metadata": {
      "needs_background": "light"
     },
     "output_type": "display_data"
    }
   ],
   "source": [
    "ax= plt.subplot()\n",
    "sns.heatmap(confusion, annot=True, fmt='g', cmap = 'Greens', ax=ax); \n",
    "\n",
    "ax.set_xlabel('Predicted labels');ax.set_ylabel('True labels'); \n",
    "ax.set_title('Confusion Matrix'); \n",
    "ax.xaxis.set_ticklabels(['Boot', 'Sandal', 'Shoe']); ax.yaxis.set_ticklabels(['Boot', 'Sandal', 'Shoe']);"
   ]
  },
  {
   "cell_type": "markdown",
   "id": "76afeb4f",
   "metadata": {
    "papermill": {
     "duration": 0.011384,
     "end_time": "2022-10-19T01:53:38.066674",
     "exception": false,
     "start_time": "2022-10-19T01:53:38.055290",
     "status": "completed"
    },
    "tags": []
   },
   "source": [
    "### Random Forest"
   ]
  },
  {
   "cell_type": "code",
   "execution_count": 19,
   "id": "2a07da71",
   "metadata": {
    "execution": {
     "iopub.execute_input": "2022-10-19T01:53:38.092478Z",
     "iopub.status.busy": "2022-10-19T01:53:38.091961Z",
     "iopub.status.idle": "2022-10-19T01:53:56.158311Z",
     "shell.execute_reply": "2022-10-19T01:53:56.156881Z"
    },
    "papermill": {
     "duration": 18.082718,
     "end_time": "2022-10-19T01:53:56.161060",
     "exception": false,
     "start_time": "2022-10-19T01:53:38.078342",
     "status": "completed"
    },
    "tags": []
   },
   "outputs": [
    {
     "data": {
      "text/plain": [
       "RandomForestClassifier(n_estimators=400)"
      ]
     },
     "execution_count": 19,
     "metadata": {},
     "output_type": "execute_result"
    }
   ],
   "source": [
    "model_rf = RandomForestClassifier(n_estimators = 400)\n",
    "model_rf.fit(x_train , y_train)"
   ]
  },
  {
   "cell_type": "code",
   "execution_count": 20,
   "id": "a8e6047b",
   "metadata": {
    "execution": {
     "iopub.execute_input": "2022-10-19T01:53:56.187626Z",
     "iopub.status.busy": "2022-10-19T01:53:56.187094Z",
     "iopub.status.idle": "2022-10-19T01:53:56.651641Z",
     "shell.execute_reply": "2022-10-19T01:53:56.650134Z"
    },
    "papermill": {
     "duration": 0.481542,
     "end_time": "2022-10-19T01:53:56.654704",
     "exception": false,
     "start_time": "2022-10-19T01:53:56.173162",
     "status": "completed"
    },
    "tags": []
   },
   "outputs": [
    {
     "name": "stdout",
     "output_type": "stream",
     "text": [
      "Accuracy Score: 92 %\n"
     ]
    }
   ],
   "source": [
    "pred = model_rf.predict(x_test)\n",
    "confusion = confusion_matrix(y_test, pred)\n",
    "acc = accuracy_score(y_test, pred)\n",
    "print('Accuracy Score:',int(acc*100),'%')"
   ]
  },
  {
   "cell_type": "code",
   "execution_count": 21,
   "id": "8df642c5",
   "metadata": {
    "execution": {
     "iopub.execute_input": "2022-10-19T01:53:56.681950Z",
     "iopub.status.busy": "2022-10-19T01:53:56.681519Z",
     "iopub.status.idle": "2022-10-19T01:53:56.970724Z",
     "shell.execute_reply": "2022-10-19T01:53:56.969393Z"
    },
    "papermill": {
     "duration": 0.30617,
     "end_time": "2022-10-19T01:53:56.973527",
     "exception": false,
     "start_time": "2022-10-19T01:53:56.667357",
     "status": "completed"
    },
    "tags": []
   },
   "outputs": [
    {
     "data": {
      "image/png": "[encoded data removed]",
      "text/plain": [
       "<Figure size 432x288 with 2 Axes>"
      ]
     },
     "metadata": {
      "needs_background": "light"
     },
     "output_type": "display_data"
    }
   ],
   "source": [
    "ax= plt.subplot()\n",
    "sns.heatmap(confusion, annot=True, fmt='g', cmap = 'Greens', ax=ax); \n",
    "\n",
    "ax.set_xlabel('Predicted labels');ax.set_ylabel('True labels'); \n",
    "ax.set_title('Confusion Matrix'); \n",
    "ax.xaxis.set_ticklabels(['Boot', 'Sandal', 'Shoe']); ax.yaxis.set_ticklabels(['Boot', 'Sandal', 'Shoe']);"
   ]
  },
  {
   "cell_type": "markdown",
   "id": "8f7e99a3",
   "metadata": {
    "papermill": {
     "duration": 0.012081,
     "end_time": "2022-10-19T01:53:56.998203",
     "exception": false,
     "start_time": "2022-10-19T01:53:56.986122",
     "status": "completed"
    },
    "tags": []
   },
   "source": [
    "### XGBoost"
   ]
  },
  {
   "cell_type": "code",
   "execution_count": 22,
   "id": "5d71941e",
   "metadata": {
    "execution": {
     "iopub.execute_input": "2022-10-19T01:53:57.027205Z",
     "iopub.status.busy": "2022-10-19T01:53:57.026482Z",
     "iopub.status.idle": "2022-10-19T01:53:57.406231Z",
     "shell.execute_reply": "2022-10-19T01:53:57.404524Z"
    },
    "papermill": {
     "duration": 0.397146,
     "end_time": "2022-10-19T01:53:57.409516",
     "exception": false,
     "start_time": "2022-10-19T01:53:57.012370",
     "status": "completed"
    },
    "tags": []
   },
   "outputs": [],
   "source": [
    "y = data_xgb.Type_enc\n",
    "x = data_xgb.loc[:, data_features.columns != 'Type_enc']\n",
    "\n",
    "x_train, x_test, y_train, y_test = train_test_split(x ,y,test_size = 0.3,random_state = 0)"
   ]
  },
  {
   "cell_type": "code",
   "execution_count": 23,
   "id": "03d575e4",
   "metadata": {
    "execution": {
     "iopub.execute_input": "2022-10-19T01:53:57.437366Z",
     "iopub.status.busy": "2022-10-19T01:53:57.436924Z",
     "iopub.status.idle": "2022-10-19T01:55:55.870055Z",
     "shell.execute_reply": "2022-10-19T01:55:55.868428Z"
    },
    "papermill": {
     "duration": 118.463434,
     "end_time": "2022-10-19T01:55:55.885963",
     "exception": false,
     "start_time": "2022-10-19T01:53:57.422529",
     "status": "completed"
    },
    "tags": []
   },
   "outputs": [
    {
     "data": {
      "text/plain": [
       "XGBClassifier(base_score=0.5, booster='gbtree', callbacks=None,\n",
       "              colsample_bylevel=1, colsample_bynode=1, colsample_bytree=1,\n",
       "              early_stopping_rounds=None, enable_categorical=False,\n",
       "              eval_metric=None, gamma=0, gpu_id=-1, grow_policy='depthwise',\n",
       "              importance_type=None, interaction_constraints='',\n",
       "              learning_rate=0.300000012, max_bin=256, max_cat_to_onehot=4,\n",
       "              max_delta_step=0, max_depth=6, max_leaves=0, min_child_weight=1,\n",
       "              missing=nan, monotone_constraints='()', n_estimators=100,\n",
       "              n_jobs=0, num_parallel_tree=1, objective='multi:softprob',\n",
       "              predictor='auto', random_state=0, reg_alpha=0, ...)"
      ]
     },
     "execution_count": 23,
     "metadata": {},
     "output_type": "execute_result"
    }
   ],
   "source": [
    "model_xgb = xgb.XGBClassifier()\n",
    "model_xgb.fit(x_train , y_train)"
   ]
  },
  {
   "cell_type": "code",
   "execution_count": 24,
   "id": "bea9c5e1",
   "metadata": {
    "execution": {
     "iopub.execute_input": "2022-10-19T01:55:55.914295Z",
     "iopub.status.busy": "2022-10-19T01:55:55.913861Z",
     "iopub.status.idle": "2022-10-19T01:55:57.294772Z",
     "shell.execute_reply": "2022-10-19T01:55:57.293852Z"
    },
    "papermill": {
     "duration": 1.398296,
     "end_time": "2022-10-19T01:55:57.297631",
     "exception": false,
     "start_time": "2022-10-19T01:55:55.899335",
     "status": "completed"
    },
    "tags": []
   },
   "outputs": [
    {
     "name": "stdout",
     "output_type": "stream",
     "text": [
      "Accuracy Score: 100 %\n"
     ]
    }
   ],
   "source": [
    "pred = model_xgb.predict(x_test)\n",
    "confusion = confusion_matrix(y_test, pred)\n",
    "acc = accuracy_score(y_test, pred)\n",
    "print('Accuracy Score:',int(acc*100),'%')"
   ]
  },
  {
   "cell_type": "code",
   "execution_count": 25,
   "id": "d5bca92e",
   "metadata": {
    "execution": {
     "iopub.execute_input": "2022-10-19T01:55:57.328272Z",
     "iopub.status.busy": "2022-10-19T01:55:57.327778Z",
     "iopub.status.idle": "2022-10-19T01:55:57.630784Z",
     "shell.execute_reply": "2022-10-19T01:55:57.629508Z"
    },
    "papermill": {
     "duration": 0.320802,
     "end_time": "2022-10-19T01:55:57.633452",
     "exception": false,
     "start_time": "2022-10-19T01:55:57.312650",
     "status": "completed"
    },
    "tags": []
   },
   "outputs": [
    {
     "data": {
      "image/png": "[encoded data removed]",
      "text/plain": [
       "<Figure size 432x288 with 2 Axes>"
      ]
     },
     "metadata": {
      "needs_background": "light"
     },
     "output_type": "display_data"
    }
   ],
   "source": [
    "ax= plt.subplot()\n",
    "sns.heatmap(confusion, annot=True, fmt='g', cmap = 'Greens', ax=ax); \n",
    "\n",
    "ax.set_xlabel('Predicted labels');ax.set_ylabel('True labels'); \n",
    "ax.set_title('Confusion Matrix'); \n",
    "ax.xaxis.set_ticklabels(['Boot', 'Sandal', 'Shoe']); ax.yaxis.set_ticklabels(['Boot', 'Sandal', 'Shoe']);"
   ]
  },
  {
   "cell_type": "markdown",
   "id": "04ddd0ff",
   "metadata": {
    "papermill": {
     "duration": 0.012373,
     "end_time": "2022-10-19T01:55:57.660301",
     "exception": false,
     "start_time": "2022-10-19T01:55:57.647928",
     "status": "completed"
    },
    "tags": []
   },
   "source": [
    "## Result\n",
    "\n",
    "Well, we have obtained a good accuracy for each method but XGBoost have impressed me, it was a really good classification, now i'm going to learn a form to use this in the entire group of images. If you read this far i would like to say thank you very much and if you think that i can improve something in this notebook please comment, it's going to be a good help :D"
   ]
  }
 ],
 "metadata": {
  "kernelspec": {
   "display_name": "Python 3",
   "language": "python",
   "name": "python3"
  },
  "language_info": {
   "codemirror_mode": {
    "name": "ipython",
    "version": 3
   },
   "file_extension": ".py",
   "mimetype": "text/x-python",
   "name": "python",
   "nbconvert_exporter": "python",
   "pygments_lexer": "ipython3",
   "version": "3.7.12"
  },
  "papermill": {
   "default_parameters": {},
   "duration": 457.496006,
   "end_time": "2022-10-19T01:56:01.176556",
   "environment_variables": {},
   "exception": null,
   "input_path": "__notebook__.ipynb",
   "output_path": "__notebook__.ipynb",
   "parameters": {},
   "start_time": "2022-10-19T01:48:23.680550",
   "version": "2.3.4"
  }
 },
 "nbformat": 4,
 "nbformat_minor": 5
}
